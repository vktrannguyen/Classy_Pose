{
 "cells": [
  {
   "cell_type": "markdown",
   "id": "77f1245c",
   "metadata": {},
   "source": [
    "# ClassyPose: A Machine-Learning Classification Model for Correct Ligand Pose Selection"
   ]
  },
  {
   "cell_type": "markdown",
   "id": "ca8e5719",
   "metadata": {},
   "source": [
    "Please cite: Tran-Nguyen, V.K., Camproux, A.C. & Taboureau, O. ClassyPose: A Machine-Learning Classification Model for Ligand Pose Selection Applied to Virtual Screening in Drug Discovery.\n",
    "\n",
    "The **protocol-env** environment has to be set up beforehand. To do this, please use the file **protocol-env.yml** in our **MLSF-protocol** repository: https://github.com/vktrannguyen/MLSF-protocol."
   ]
  },
  {
   "cell_type": "markdown",
   "id": "ef9da53b",
   "metadata": {},
   "source": [
    "### Step 1: Calling all Python dependencies "
   ]
  },
  {
   "cell_type": "code",
   "execution_count": null,
   "id": "b51fa125",
   "metadata": {},
   "outputs": [],
   "source": [
    "import os\n",
    "import numpy as np\n",
    "import pandas as pd\n",
    "import oddt\n",
    "import oddt.pandas as opd\n",
    "from sklearn.svm import SVC"
   ]
  },
  {
   "cell_type": "markdown",
   "id": "a074b601",
   "metadata": {},
   "source": [
    "### Step 2: Loading CSV data files for training and test sets "
   ]
  },
  {
   "cell_type": "markdown",
   "id": "ad796a67",
   "metadata": {},
   "source": [
    "**1. For the pose selection/classification task**: where the **Real Class of the pose** (good or bad pose) is already known"
   ]
  },
  {
   "cell_type": "code",
   "execution_count": null,
   "id": "ce23e3d1",
   "metadata": {},
   "outputs": [],
   "source": [
    "train_data = pd.read_csv(\"Pathway_to_the_training_data_file_:_training_data_poses.csv\")\n",
    "Train_Class = train_data['Classification']\n",
    "test_data = pd.read_csv(\"Pathway_to_the_test_data_file\")\n",
    "Test_Class = test_data['Classification']"
   ]
  },
  {
   "cell_type": "markdown",
   "id": "31205705",
   "metadata": {},
   "source": [
    "**2. For the virtual screening task**: where the **Real Class of the pose** (good or bad pose) is not known\n",
    "\n",
    "Attention: here we consider the **Real Class of the pose**, **not** the Real Class of the screened molecule (active or inactive/decoy)"
   ]
  },
  {
   "cell_type": "code",
   "execution_count": null,
   "id": "d9194f83",
   "metadata": {},
   "outputs": [],
   "source": [
    "train_data = pd.read_csv(\"Pathway_to_the_training_data_file_:_training_data_poses.csv\")\n",
    "Train_Class = train_data['Classification']\n",
    "test_data = pd.read_csv(\"Pathway_to_the_test_data_file\")"
   ]
  },
  {
   "cell_type": "markdown",
   "id": "3ce90025",
   "metadata": {},
   "source": [
    "### Step 3: Loading PLEC fingerprints of training and test data "
   ]
  },
  {
   "cell_type": "code",
   "execution_count": null,
   "id": "a639f163",
   "metadata": {},
   "outputs": [],
   "source": [
    "d_train_csv = pd.read_csv('Pathway_to_the_PLEC_fingerprints_of_training_data_:_training_data_PLEC.csv', header=None)\n",
    "d_test_csv = pd.read_csv('Pathway_to_the_PLEC_fingerprints_of_test_data', header=None)"
   ]
  },
  {
   "cell_type": "markdown",
   "id": "9723a817",
   "metadata": {},
   "source": [
    "### Step 4: Training and applying ClassyPose"
   ]
  },
  {
   "cell_type": "markdown",
   "id": "ca18124a",
   "metadata": {},
   "source": [
    "**1. For the pose selection/classification task**: where the **Real Class of the pose** (good or bad pose) is already known"
   ]
  },
  {
   "cell_type": "code",
   "execution_count": null,
   "id": "f567bbba",
   "metadata": {},
   "outputs": [],
   "source": [
    "#Train ClassyPose on the training set poses:\n",
    "svm_plec = SVC(degree = 3, kernel = \"rbf\", gamma = 'scale', probability = True)\n",
    "svm_plec.fit(d_train_csv, Train_Class)\n",
    "\n",
    "#Predict the Good Pose Probability for the test set poses:\n",
    "prediction_test_svm_plec_prob = svm_plec.predict_proba(d_test_csv)\n",
    "plec_result_svm  = pd.DataFrame({\"Good_Pose_Prob\": prediction_test_svm_plec_prob[:, 1], \"Real_Class\": Test_Class})\n",
    "\n",
    "#Classify the test set poses:\n",
    "df_Predicted_Class = []\n",
    "for i in range(len(plec_result_svm)):\n",
    "    if (plec_result_svm.loc[i, \"Good_Pose_Prob\"] > 0.5):\n",
    "        df_Predicted_Class.append(\"Good\")\n",
    "    elif (plec_result_svm.loc[i, \"Good_Pose_Prob\"] <= 0.5):\n",
    "        df_Predicted_Class.append(\"Bad\")\n",
    "plec_result_svm.insert(loc=len(plec_result_svm.columns), column='Predicted_Class', value=df_Predicted_Class)\n",
    "\n",
    "#Save the output as a csv file:\n",
    "rmsd = test_data.iloc[:, 1]\n",
    "pose = test_data.iloc[:, 0]\n",
    "plec_result_svm['RMSD'] = rmsd\n",
    "plec_result_svm['Pose'] = pose\n",
    "plec_result_svm.to_csv(\"Pathway_to_the_CSV_result_file\")"
   ]
  },
  {
   "cell_type": "markdown",
   "id": "a563e488",
   "metadata": {},
   "source": [
    "**2. For the virtual screening task**: where the Real Class of the pose (good or bad pose) is not known"
   ]
  },
  {
   "cell_type": "code",
   "execution_count": null,
   "id": "686cf259",
   "metadata": {},
   "outputs": [],
   "source": [
    "#Train ClassyPose on the training set poses:\n",
    "svm_plec = SVC(degree = 3, kernel = \"rbf\", gamma = 'scale', probability = True)\n",
    "svm_plec.fit(d_train_csv, Train_Class)\n",
    "\n",
    "#Predict the Good Pose Probability for the test set poses:\n",
    "prediction_test_svm_plec_prob = svm_plec.predict_proba(d_test_csv)\n",
    "plec_result_svm  = pd.DataFrame({\"Good_Pose_Prob\": prediction_test_svm_plec_prob[:, 1]})\n",
    "\n",
    "#Save the output as a csv file:\n",
    "pose = test_data.iloc[:, 0]\n",
    "plec_result_svm['Pose'] = pose\n",
    "plec_result_svm.to_csv(\"Pathway_to_the_CSV_result_file\")"
   ]
  }
 ],
 "metadata": {
  "kernelspec": {
   "display_name": "Python 3 (ipykernel)",
   "language": "python",
   "name": "python3"
  },
  "language_info": {
   "codemirror_mode": {
    "name": "ipython",
    "version": 3
   },
   "file_extension": ".py",
   "mimetype": "text/x-python",
   "name": "python",
   "nbconvert_exporter": "python",
   "pygments_lexer": "ipython3",
   "version": "3.11.4"
  }
 },
 "nbformat": 4,
 "nbformat_minor": 5
}
