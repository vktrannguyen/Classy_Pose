{
 "cells": [
  {
   "cell_type": "markdown",
   "id": "77f1245c",
   "metadata": {},
   "source": [
    "# ClassyPose: a machine-learning classification model for correct ligand pose prediction"
   ]
  },
  {
   "cell_type": "markdown",
   "id": "ca8e5719",
   "metadata": {},
   "source": [
    "Please cite: XXXX"
   ]
  },
  {
   "cell_type": "markdown",
   "id": "ef9da53b",
   "metadata": {},
   "source": [
    "### Step 1: Calling all Python dependencies "
   ]
  },
  {
   "cell_type": "code",
   "execution_count": null,
   "id": "b51fa125",
   "metadata": {},
   "outputs": [],
   "source": [
    "import os\n",
    "import numpy as np\n",
    "import pandas as pd\n",
    "import oddt\n",
    "import oddt.pandas as opd\n",
    "\n",
    "from sklearn.ensemble import RandomForestClassifier\n",
    "from xgboost.sklearn import XGBClassifier\n",
    "from sklearn.svm import SVC\n",
    "from sklearn.neural_network import MLPClassifier\n",
    "\n",
    "from sklearn import metrics\n",
    "from sklearn.metrics import precision_recall_curve, auc"
   ]
  },
  {
   "cell_type": "markdown",
   "id": "a074b601",
   "metadata": {},
   "source": [
    "### Step 2: Loading CSV data files for training and test sets "
   ]
  },
  {
   "cell_type": "code",
   "execution_count": null,
   "id": "ce23e3d1",
   "metadata": {},
   "outputs": [],
   "source": [
    "train_data = pd.read_csv(\"Pathway_to_the_training_data_file_:_training_data_poses.csv\")\n",
    "Train_Class = train_data['Classification']\n",
    "test_data = pd.read_csv(\"Pathway_to_the_test_data_file\")\n",
    "Test_Class = test_data['Classification']"
   ]
  },
  {
   "cell_type": "markdown",
   "id": "3ce90025",
   "metadata": {},
   "source": [
    "### Step 3: Loading PLEC fingerprints of training and test data "
   ]
  },
  {
   "cell_type": "code",
   "execution_count": null,
   "id": "a639f163",
   "metadata": {},
   "outputs": [],
   "source": [
    "d_train_csv = pd.read_csv('Pathway_to_the_PLEC_fingerprints_of_training_data_:_training_data_PLEC.csv', header=None)\n",
    "d_test_csv = pd.read_csv('Pathway_to_the_PLEC_fingerprints_of_test_data', header=None)"
   ]
  },
  {
   "cell_type": "markdown",
   "id": "9723a817",
   "metadata": {},
   "source": [
    "### Step 4: Training and testing machine-learning classification models "
   ]
  },
  {
   "cell_type": "markdown",
   "id": "0c54e9f1",
   "metadata": {},
   "source": [
    "#### Option 1: Random Forest "
   ]
  },
  {
   "cell_type": "code",
   "execution_count": null,
   "id": "f3777c9e",
   "metadata": {},
   "outputs": [],
   "source": [
    "#Train the RF model on the training molecules:\n",
    "rf_plec = RandomForestClassifier(n_estimators = 400, max_features = 'sqrt', n_jobs = 30)\n",
    "rf_plec.fit(d_train_csv, Train_Class)\n",
    "\n",
    "#Test the RF model on the test molecules:\n",
    "prediction_test_rf_plec_class = rf_plec.predict(d_test_csv)\n",
    "prediction_test_rf_plec_prob = rf_plec.predict_proba(d_test_csv)\n",
    "\n",
    "#Get virtual screening results on the test molecules and export results to a csv file:\n",
    "plec_result_rf = pd.DataFrame({\"Good_Pose_Prob\": prediction_test_rf_plec_prob[:, 1], \"Real_Class\": Test_Class})\n",
    "\n",
    "rmsd = test_data.iloc[:, 1]\n",
    "pose = test_data.iloc[:, 0]\n",
    "\n",
    "plec_result_rf['RMSD'] = rmsd\n",
    "plec_result_rf['Pose'] = pose\n",
    "\n",
    "plec_result_rf.to_csv(\"Pathway_to_the_CSV_result_file\")"
   ]
  },
  {
   "cell_type": "markdown",
   "id": "fbb26502",
   "metadata": {},
   "source": [
    "#### Option 2: Extreme Gradient Boosting "
   ]
  },
  {
   "cell_type": "code",
   "execution_count": null,
   "id": "3db69572",
   "metadata": {},
   "outputs": [],
   "source": [
    "#Train the XGB model on the training molecules:\n",
    "xgb_plec = XGBClassifier(n_jobs = 40)\n",
    "xgb_plec.fit(np.array(d_train_csv), Train_Class)\n",
    "\n",
    "#Test the XGB model on the test molecules:\n",
    "prediction_test_xgb_plec_class = xgb_plec.predict(np.array(d_test_csv))\n",
    "prediction_test_xgb_plec_prob = xgb_plec.predict_proba(np.array(d_test_csv))\n",
    "\n",
    "#Get virtual screening results on the test molecules and export results to a csv file:\n",
    "plec_result_xgb = pd.DataFrame({\"Good_Pose_Prob\": prediction_test_xgb_plec_prob[:, 1], \"Real_Class\": Test_Class})\n",
    "\n",
    "rmsd = test_data.iloc[:, 1]\n",
    "pose = test_data.iloc[:, 0]\n",
    "\n",
    "plec_result_xgb['RMSD'] = rmsd\n",
    "plec_result_xgb['Pose'] = pose\n",
    "\n",
    "plec_result_xgb.to_csv(\"Pathway_to_the_CSV_result_file\")"
   ]
  },
  {
   "cell_type": "markdown",
   "id": "0f7d8da4",
   "metadata": {},
   "source": [
    "#### Option 3: Support Vector Machine "
   ]
  },
  {
   "cell_type": "code",
   "execution_count": null,
   "id": "f567bbba",
   "metadata": {},
   "outputs": [],
   "source": [
    "#Train the SVM model on the training molecules:\n",
    "svm_plec = SVC(degree = 3, kernel = \"rbf\", probability = True)\n",
    "svm_plec.fit(d_train_csv, Train_Class)\n",
    "\n",
    "#Test the SVM model on the test molecules:\n",
    "prediction_test_svm_plec_class = svm_plec.predict(d_test_csv)\n",
    "prediction_test_svm_plec_prob = svm_plec.predict_proba(d_test_csv)\n",
    "\n",
    "#Get virtual screening results on the test molecules and export results to a csv file:\n",
    "plec_result_svm  = pd.DataFrame({\"Good_Pose_Prob\": prediction_test_svm_plec_prob[:, 1], \"Real_Class\": Test_Class})\n",
    "\n",
    "rmsd = test_data.iloc[:, 1]\n",
    "pose = test_data.iloc[:, 0]\n",
    "\n",
    "plec_result_svm['RMSD'] = rmsd\n",
    "plec_result_svm['Pose'] = pose\n",
    "\n",
    "plec_result_svm.to_csv(\"Pathway_to_the_CSV_result_file\")"
   ]
  },
  {
   "cell_type": "markdown",
   "id": "097f6d34",
   "metadata": {},
   "source": [
    "#### Option 4: Artificial Neural Network "
   ]
  },
  {
   "cell_type": "code",
   "execution_count": null,
   "id": "768e4353",
   "metadata": {},
   "outputs": [],
   "source": [
    "#Train the ANN model on the training molecules:\n",
    "ann_plec = MLPClassifier(max_iter = 9000)\n",
    "ann_plec.fit(d_train_csv, Train_Class)\n",
    "\n",
    "#Test the ANN model on the test molecules:\n",
    "prediction_test_ann_plec_class = ann_plec.predict(d_test_csv)\n",
    "prediction_test_ann_plec_prob = ann_plec.predict_proba(d_test_csv)\n",
    "\n",
    "#Get virtual screening results on the test molecules and export results to a csv file:\n",
    "plec_result_ann = pd.DataFrame({\"Good_Pose_Prob\": prediction_test_ann_plec_prob[:, 1], \"Real_Class\": Test_Class})\n",
    "\n",
    "rmsd = test_data.iloc[:, 1]\n",
    "pose = test_data.iloc[:, 0]\n",
    "\n",
    "plec_result_ann['RMSD'] = rmsd\n",
    "plec_result_ann['Pose'] = pose\n",
    "\n",
    "plec_result_ann.to_csv(\"Pathway_to_the_CSV_result_file\")"
   ]
  },
  {
   "cell_type": "markdown",
   "id": "85f3e103",
   "metadata": {},
   "source": [
    "### Step 5: Computing ROC-AUC and PR-AUC values from CSV result files "
   ]
  },
  {
   "cell_type": "code",
   "execution_count": null,
   "id": "d8d289c4",
   "metadata": {},
   "outputs": [],
   "source": [
    "df = pd.read_csv('Pathway_to_the_CSV_result_file', sep = ',')\n",
    "real_class = df['Real_Class']\n",
    "score = df['Good_Pose_Prob'] "
   ]
  },
  {
   "cell_type": "code",
   "execution_count": null,
   "id": "8196db68",
   "metadata": {},
   "outputs": [],
   "source": [
    "#Compute the ROC-AUC\n",
    "fpr, tpr, thresholds = metrics.roc_curve(real_class, score, pos_label = \"Good\")\n",
    "auc(fpr, tpr)"
   ]
  },
  {
   "cell_type": "code",
   "execution_count": null,
   "id": "754d0bd0",
   "metadata": {},
   "outputs": [],
   "source": [
    "#Compute the PR-AUC\n",
    "precision, recall, thresholds = precision_recall_curve(real_class, score, pos_label = \"Good\")\n",
    "auc(recall, precision)"
   ]
  }
 ],
 "metadata": {
  "kernelspec": {
   "display_name": "Python 3 (ipykernel)",
   "language": "python",
   "name": "python3"
  },
  "language_info": {
   "codemirror_mode": {
    "name": "ipython",
    "version": 3
   },
   "file_extension": ".py",
   "mimetype": "text/x-python",
   "name": "python",
   "nbconvert_exporter": "python",
   "pygments_lexer": "ipython3",
   "version": "3.7.16"
  }
 },
 "nbformat": 4,
 "nbformat_minor": 5
}
